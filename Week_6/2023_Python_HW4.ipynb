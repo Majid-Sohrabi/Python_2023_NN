{
 "cells": [
  {
   "cell_type": "markdown",
   "id": "8f868eb6",
   "metadata": {},
   "source": [
    "# Homework 4"
   ]
  },
  {
   "cell_type": "markdown",
   "id": "f47683d8",
   "metadata": {},
   "source": [
    "## Task 1  -  (1 point)\n",
    "\n",
    "You are given an array of non-overlapping intervals `intervals` where $intervals[i] = [start_i, end_i]$ represent the start and the end of the $i^{th}$ interval and `intervals` is sorted in ascending order by $start_i$. You are also given an interval `newInterval = [start, end]` that represents the start and end of another inteval.\n",
    "\n",
    "Insert `newInterval` into `intervals` such that `intervals` is still sorted in ascending order by $start_i$ and `intervals` still does not have any overlapping intervals (merge overlapping intervals if necessary).\n",
    "\n",
    "Return `intervals` after the insertion.\n",
    "\n",
    "Example 1:\n",
    "\n",
    "```\n",
    "Input: intervals = [[1,3], [6, 9]], newInterval = [2, 5]\n",
    "Output: [[1, 5], [6, 9]]\n",
    "```\n",
    "\n",
    "Example 2:\n",
    "\n",
    "```\n",
    "Input: intervals = [[1,2],[3,5],[6,7],[8,10],[12,16]], newInterval = [4,8]\n",
    "Output: [[1,2],[3,10],[12,16]]\n",
    "Explanation: Because the new interval [4,8] overlaps with [3,5],[6,7],[8,10].\n",
    "```"
   ]
  },
  {
   "cell_type": "code",
   "execution_count": null,
   "id": "372b7579",
   "metadata": {},
   "outputs": [],
   "source": [
    "<YOUR CODE>"
   ]
  },
  {
   "cell_type": "markdown",
   "id": "d03af2f7",
   "metadata": {},
   "source": [
    "## Task 2 (1 point)\n",
    "\n",
    "A **transformation sequence** from word `beginWord` to word `endWord` using a dictinoary `wordList` is a sequence of words $beginWord -> s_1 -> s_2 -> ... -> s_k$ such that:\n",
    "\n",
    "* Every adjacent pair of words differs by a single letter.\n",
    "* Every $s_i$ for `1 <= i <= k` is in `wordList`. Note that `beginWord` does not need to be in `wordList`.\n",
    "* $s_k == endWord$\n",
    "\n",
    "Given two words, `beginWord` and `endWord`, and a dictionary `wordList`, return all the **shortest transformation sequences** from `beginWord` to `endWord`, or an empty list if no such sequence exists. Each sequence should be returned as a list of the words $[beginWord, s_1, s_2, ..., s_k]$\n",
    "\n",
    "Example 1:\n",
    "\n",
    "```\n",
    "Input: beginWord = \"hit\", endWord = \"cog\", wordList = [\"hot\",\"dot\",\"dog\",\"lot\",\"log\",\"cog\"]\n",
    "Output: [[\"hit\",\"hot\",\"dot\",\"dog\",\"cog\"],[\"hit\",\"hot\",\"lot\",\"log\",\"cog\"]]\n",
    "Explanation: There are 2 shortest transformation sequences:\n",
    "\"hit\" -> \"hot\" -> \"dot\" -> \"dog\" -> \"cog\"\n",
    "\"hit\" -> \"hot\" -> \"lot\" -> \"log\" -> \"cog\"\n",
    "```\n",
    "\n",
    "Example 2:\n",
    "\n",
    "```\n",
    "Input: beginWord = \"hit\", endWord = \"cog\", wordList = [\"hot\",\"dot\",\"dog\",\"lot\",\"log\"]\n",
    "Output: []\n",
    "Explanation: The endWord \"cog\" is not in wordList, therefore there is no valid transformation sequence.\n",
    "```"
   ]
  },
  {
   "cell_type": "code",
   "execution_count": null,
   "id": "f35ac27c",
   "metadata": {},
   "outputs": [],
   "source": [
    "<YOUR CODE>"
   ]
  },
  {
   "cell_type": "markdown",
   "id": "89040ea7",
   "metadata": {},
   "source": [
    "## Task 3 (1 point)\n",
    "\n",
    "You are given an integer array `prices` where `prices[i]` is the price of a given stock on the $i^{th}$ day.\n",
    "\n",
    "You want to maximize your profit by choosing a **single day** to buy one stock and choosing a **different day in the future** to sell the stock.\n",
    "\n",
    "Return the maximum profit you can achieve from the transaction. If you cannot achieve any profit, return `0`.\n",
    "\n",
    "Example 1:\n",
    "\n",
    "```\n",
    "Input: prices = [7,1,5,3,6,4]\n",
    "Output: 5\n",
    "Explanation: Buy on day 2 (price = 1) and sell on day 5 (price = 6), profit = 6-1 = 5.\n",
    "Note that buying on day 2 and selling on day 1 is not allowed because you must buy before you sell.\n",
    "```\n",
    "\n",
    "Example 2:\n",
    "\n",
    "```\n",
    "Input: prices = [7,6,4,3,1]\n",
    "Output: 0\n",
    "Explanation: In this case, no transactions are done and the max profit = 0.\n",
    "```"
   ]
  },
  {
   "cell_type": "code",
   "execution_count": null,
   "id": "782170f2",
   "metadata": {},
   "outputs": [],
   "source": [
    "<YOUR CODE>"
   ]
  },
  {
   "cell_type": "markdown",
   "id": "9f0f0213",
   "metadata": {},
   "source": [
    "## Task 4 (1 point)\n",
    "\n",
    "You are given an integer array `prices` where `prices[i]` is the price of a given stock on the $i^{th}$ day.\n",
    "\n",
    "On each day, you may decide to buy and/or sell the stock. You can only hold **at most one** share of the stock at any time. However, you can buy it then immediatly sell it on the **same day**.\n",
    "\n",
    "Find and return the **maximum** profit you can achieve.\n",
    "\n",
    "Example 1:\n",
    "\n",
    "```\n",
    "Input: prices = [7,1,5,3,6,4]\n",
    "Output: 7\n",
    "Explanation: Buy on day 2 (price = 1) and sell on day 3 (price = 5), profit = 5-1 = 4.\n",
    "Then buy on day 4 (price = 3) and sell on day 5 (price = 6), profit = 6-3 = 3.\n",
    "Total profit is 4 + 3 = 7.\n",
    "```\n",
    "\n",
    "Example 2:\n",
    "\n",
    "```\n",
    "Input: prices = [1,2,3,4,5]\n",
    "Output: 4\n",
    "Explanation: Buy on day 1 (price = 1) and sell on day 5 (price = 5), profit = 5-1 = 4.\n",
    "Total profit is 4.\n",
    "```\n",
    "\n",
    "Example 3:\n",
    "\n",
    "```\n",
    "Input: prices = [7,6,4,3,1]\n",
    "Output: 0\n",
    "Explanation: There is no way to make a positive profit, so we never buy the stock to achieve the maximum profit of 0.\n",
    "```"
   ]
  },
  {
   "cell_type": "code",
   "execution_count": null,
   "id": "a8905e37",
   "metadata": {},
   "outputs": [],
   "source": [
    "<YOUR CODE>"
   ]
  },
  {
   "cell_type": "markdown",
   "id": "8a0edbe2",
   "metadata": {},
   "source": [
    "## Task 5 (1 point)\n",
    "\n",
    "Given an integer array `nums`, return the maximum difference between two successive elements in its sorted form. If the array contains less than two elements, return `0`.\n",
    "\n",
    "You must write an algorithm that runs in linear time and uses linear extra space.\n",
    "\n",
    "Example 1:\n",
    "\n",
    "```\n",
    "Input: nums = [3,6,9,1]\n",
    "Output: 3\n",
    "Explanation: The sorted form of the array is [1,3,6,9], either (3,6) or (6,9) has the maximum difference 3.\n",
    "```\n",
    "\n",
    "Example 2:\n",
    "\n",
    "```\n",
    "Input: nums = [10]\n",
    "Output: 0\n",
    "Explanation: The array contains less than 2 elements, therefore return 0.\n",
    "```"
   ]
  },
  {
   "cell_type": "code",
   "execution_count": null,
   "id": "5414b2cf",
   "metadata": {},
   "outputs": [],
   "source": [
    "<YOUR CODE>"
   ]
  }
 ],
 "metadata": {
  "kernelspec": {
   "display_name": "Python 3 (ipykernel)",
   "language": "python",
   "name": "python3"
  },
  "language_info": {
   "codemirror_mode": {
    "name": "ipython",
    "version": 3
   },
   "file_extension": ".py",
   "mimetype": "text/x-python",
   "name": "python",
   "nbconvert_exporter": "python",
   "pygments_lexer": "ipython3",
   "version": "3.10.9"
  }
 },
 "nbformat": 4,
 "nbformat_minor": 5
}
