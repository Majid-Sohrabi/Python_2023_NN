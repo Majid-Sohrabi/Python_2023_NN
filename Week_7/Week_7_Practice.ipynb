{
 "cells": [
  {
   "cell_type": "markdown",
   "metadata": {
    "id": "yDN3StLrZPch"
   },
   "source": [
    "# Week 7: Practice (Linguistics)"
   ]
  },
  {
   "cell_type": "markdown",
   "metadata": {
    "id": "TT9zGBDGebM0"
   },
   "source": [
    "These are not graded practice exercises."
   ]
  },
  {
   "cell_type": "markdown",
   "metadata": {
    "id": "VL0MpKEhdFvK"
   },
   "source": [
    "### Creating a dataframe"
   ]
  },
  {
   "cell_type": "markdown",
   "metadata": {
    "id": "BVIQIitKZW1o"
   },
   "source": [
    "1. Import pandas with a shortened name."
   ]
  },
  {
   "cell_type": "code",
   "execution_count": null,
   "metadata": {
    "id": "2I3WAeJyZXZb"
   },
   "outputs": [],
   "source": []
  },
  {
   "cell_type": "markdown",
   "metadata": {
    "id": "bz-9InjdcKJJ"
   },
   "source": [
    "Now we need to create this table."
   ]
  },
  {
   "cell_type": "markdown",
   "metadata": {
    "id": "0nLtSn0OcBD6"
   },
   "source": [
    "![Снимок экрана 2021-09-06 в 03.09.29.png](data:image/png;base64,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)"
   ]
  },
  {
   "cell_type": "markdown",
   "metadata": {
    "id": "7QouHiNgcSu9"
   },
   "source": [
    "2. Create an empty dataframe."
   ]
  },
  {
   "cell_type": "code",
   "execution_count": null,
   "metadata": {
    "id": "mTExvtFSaF1h"
   },
   "outputs": [],
   "source": []
  },
  {
   "cell_type": "markdown",
   "metadata": {
    "id": "Q-h7GIJIcX-O"
   },
   "source": [
    "3. Fill this dataframe with two lists, one is height, another is weight."
   ]
  },
  {
   "cell_type": "code",
   "execution_count": null,
   "metadata": {
    "colab": {
     "base_uri": "https://localhost:8080/",
     "height": 143
    },
    "id": "UQfdd9fdZzhm",
    "outputId": "5848de09-7c0d-4143-cf66-d47f9efcafd5"
   },
   "outputs": [],
   "source": []
  },
  {
   "cell_type": "markdown",
   "metadata": {
    "id": "CGxNWbpJcp3_"
   },
   "source": [
    "4. Change the indices by the names of students."
   ]
  },
  {
   "cell_type": "code",
   "execution_count": null,
   "metadata": {
    "id": "aXUxS4HFaLLC"
   },
   "outputs": [],
   "source": []
  },
  {
   "cell_type": "code",
   "execution_count": null,
   "metadata": {
    "id": "c4vHmdpQaVKA"
   },
   "outputs": [],
   "source": []
  },
  {
   "cell_type": "markdown",
   "metadata": {
    "id": "MNuZxddlc531"
   },
   "source": [
    "5. Print Alice's height and weight."
   ]
  },
  {
   "cell_type": "code",
   "execution_count": null,
   "metadata": {
    "colab": {
     "base_uri": "https://localhost:8080/"
    },
    "id": "kC0ujGVdbFTa",
    "outputId": "832ec65a-44fa-417a-9240-dbafd0a0f4bb"
   },
   "outputs": [],
   "source": []
  },
  {
   "cell_type": "markdown",
   "metadata": {
    "id": "9FbbsMfKdJ7K"
   },
   "source": [
    "### Loading a dataset"
   ]
  },
  {
   "cell_type": "markdown",
   "metadata": {
    "id": "7T8S5U9pZZN1"
   },
   "source": [
    "6. Please upload the students.csv dataset and save it into a new variable using `pd.read_csv`."
   ]
  },
  {
   "cell_type": "code",
   "execution_count": null,
   "metadata": {
    "colab": {
     "base_uri": "https://localhost:8080/",
     "height": 204
    },
    "id": "X5Wb1oj1ZZs0",
    "outputId": "b71dc255-45a6-4ce4-92cc-50d56465411f"
   },
   "outputs": [],
   "source": []
  },
  {
   "cell_type": "markdown",
   "metadata": {
    "id": "s9msfMX8ZZ8v"
   },
   "source": [
    "7. Check the dimensionality of the dataframe."
   ]
  },
  {
   "cell_type": "code",
   "execution_count": null,
   "metadata": {
    "id": "HVYdBkQPT7GK"
   },
   "outputs": [],
   "source": []
  },
  {
   "cell_type": "markdown",
   "metadata": {
    "id": "TF7hxFp8Zakv"
   },
   "source": [
    "8. Print the list with the names of columns."
   ]
  },
  {
   "cell_type": "code",
   "execution_count": null,
   "metadata": {
    "colab": {
     "base_uri": "https://localhost:8080/"
    },
    "id": "m0dG1mHEZbA8",
    "outputId": "5f13589b-870f-4e49-ac62-32ac42dc027d"
   },
   "outputs": [],
   "source": []
  },
  {
   "cell_type": "markdown",
   "metadata": {
    "id": "n6mjVJn7d4a4"
   },
   "source": [
    "9. Count the average between Test and Total and add this information into a new column `Average`."
   ]
  },
  {
   "cell_type": "code",
   "execution_count": null,
   "metadata": {
    "colab": {
     "base_uri": "https://localhost:8080/",
     "height": 514
    },
    "id": "Dbd8KNPeZbvw",
    "outputId": "d159f302-551b-4b17-883a-0bf9f67d5cd9"
   },
   "outputs": [],
   "source": []
  },
  {
   "cell_type": "markdown",
   "metadata": {
    "id": "qjou65WGZeEK"
   },
   "source": [
    "10. Print the last 10 rows of this dataframe."
   ]
  },
  {
   "cell_type": "code",
   "execution_count": null,
   "metadata": {
    "colab": {
     "base_uri": "https://localhost:8080/",
     "height": 359
    },
    "id": "tYjBA-yNZfee",
    "outputId": "3aaacb55-4df6-4dbd-8eb7-cc0c115cccec"
   },
   "outputs": [],
   "source": []
  },
  {
   "cell_type": "markdown",
   "metadata": {
    "id": "onpFlJsuVPiK"
   },
   "source": [
    "## Additional exercises"
   ]
  },
  {
   "cell_type": "markdown",
   "metadata": {
    "id": "_oAu7Eb-V4WA"
   },
   "source": [
    "1. Import numpy with a shortened name."
   ]
  },
  {
   "cell_type": "code",
   "execution_count": null,
   "metadata": {
    "id": "cMeZshSmXjMv"
   },
   "outputs": [],
   "source": []
  },
  {
   "cell_type": "markdown",
   "metadata": {
    "id": "TvM-J1TjXjxG"
   },
   "source": [
    "2. Create a NumPy array with the marks of students. The marks are 20, 40, 56, 80, 0, 5, 25, 27, 74, 1, 0."
   ]
  },
  {
   "cell_type": "code",
   "execution_count": null,
   "metadata": {
    "id": "Ua21SyyDXy0u"
   },
   "outputs": [],
   "source": []
  },
  {
   "cell_type": "markdown",
   "metadata": {
    "id": "faLSqOikXz8s"
   },
   "source": [
    "3. Print a boolean array that describes which of the students got 0 on the exam."
   ]
  },
  {
   "cell_type": "code",
   "execution_count": null,
   "metadata": {
    "colab": {
     "base_uri": "https://localhost:8080/"
    },
    "id": "q_fNMi8fWWl1",
    "outputId": "878f37b5-63b1-4a46-a096-1610e8943152"
   },
   "outputs": [],
   "source": []
  },
  {
   "cell_type": "markdown",
   "metadata": {
    "id": "JIIP4YMHYEHr"
   },
   "source": [
    "4. Print a boolean array that describes which of students received a score above 50."
   ]
  },
  {
   "cell_type": "code",
   "execution_count": null,
   "metadata": {
    "colab": {
     "base_uri": "https://localhost:8080/"
    },
    "id": "TqqEwuwtWaKz",
    "outputId": "56c76676-14bf-4912-a878-4cbb4239a997"
   },
   "outputs": [],
   "source": []
  },
  {
   "cell_type": "markdown",
   "metadata": {
    "id": "s2XvLyHYYwJY"
   },
   "source": [
    "5. Print a boolean array that describes who got at least 50, but not higher than 70."
   ]
  },
  {
   "cell_type": "code",
   "execution_count": null,
   "metadata": {
    "colab": {
     "base_uri": "https://localhost:8080/"
    },
    "id": "C2OTV_9SXYWN",
    "outputId": "0352e66e-2cf5-4468-fedd-b4465c5322fe"
   },
   "outputs": [],
   "source": []
  },
  {
   "cell_type": "code",
   "execution_count": null,
   "metadata": {
    "id": "x0FJSnzwXb_9"
   },
   "outputs": [],
   "source": []
  }
 ],
 "metadata": {
  "colab": {
   "provenance": []
  },
  "kernelspec": {
   "display_name": "Python 3 (ipykernel)",
   "language": "python",
   "name": "python3"
  },
  "language_info": {
   "codemirror_mode": {
    "name": "ipython",
    "version": 3
   },
   "file_extension": ".py",
   "mimetype": "text/x-python",
   "name": "python",
   "nbconvert_exporter": "python",
   "pygments_lexer": "ipython3",
   "version": "3.10.9"
  }
 },
 "nbformat": 4,
 "nbformat_minor": 1
}
