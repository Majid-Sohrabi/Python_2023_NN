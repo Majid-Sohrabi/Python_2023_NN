{
 "cells": [
  {
   "cell_type": "markdown",
   "id": "8f868eb6",
   "metadata": {},
   "source": [
    "# Homework 3"
   ]
  },
  {
   "cell_type": "markdown",
   "id": "f47683d8",
   "metadata": {},
   "source": [
    "## Task 1  -  (1 point)\n",
    "\n",
    "Given a string ``my_str``, find the length of the **longest** substring without duplicate characters.\n",
    "\n",
    "Example:\n",
    "```\n",
    "Input: my_str = \"hgfgklrmgfkg\"\n",
    "output: 6\n",
    "Explanation: The aswer is \"fgklrm\", with the length of 6.\n",
    "```\n",
    "\n",
    "**Note:** Your program should work with any arbitrary input with different lengths."
   ]
  },
  {
   "cell_type": "code",
   "execution_count": null,
   "id": "372b7579",
   "metadata": {},
   "outputs": [],
   "source": [
    "<YOUR CODE>"
   ]
  },
  {
   "cell_type": "markdown",
   "id": "d03af2f7",
   "metadata": {},
   "source": [
    "## Task 2 (1 point)\n",
    "\n",
    "Given an integer `number`, return `number` with it's digits reversed. Don't consider the the integer to string. Write your code to make this operation on integer.\n",
    "\n",
    "Example:\n",
    "\n",
    "```\n",
    "Input: number = 6842\n",
    "Output: 2486\n",
    "```"
   ]
  },
  {
   "cell_type": "code",
   "execution_count": null,
   "id": "f35ac27c",
   "metadata": {},
   "outputs": [],
   "source": [
    "<YOUR CODE>"
   ]
  },
  {
   "cell_type": "markdown",
   "id": "89040ea7",
   "metadata": {},
   "source": [
    "## Task 3 (1 point)\n",
    "\n",
    "Given an unsorted integer array \"numbers\", return the smallest missing positive integer.\n",
    "\n",
    "Example 1:\n",
    "\n",
    "```\n",
    "Input: numbers = [1, 2, 4, 6, 5, 0]\n",
    "Output: 3\n",
    "```\n",
    "\n",
    "Example 2:\n",
    "\n",
    "```\n",
    "Input: numbers = [3,4,-1,1]\n",
    "Output: 2\n",
    "```\n",
    "\n",
    "**Note**: Your program should work for any arbitraty array."
   ]
  },
  {
   "cell_type": "code",
   "execution_count": null,
   "id": "782170f2",
   "metadata": {},
   "outputs": [],
   "source": [
    "<YOUR CODE>"
   ]
  },
  {
   "cell_type": "markdown",
   "id": "9f0f0213",
   "metadata": {},
   "source": [
    "## Task 4 (1 point)\n",
    "\n",
    "Given an array of `intervals` where $intervals[i] = [start_i, end_i]$, merge all overlapping intervals, and *return an array of the non-overlapping intervals that cover all the intervals in the input.*\n",
    "\n",
    "Example 1:\n",
    "\n",
    "```\n",
    "Input: intervals = [[1, 4], [3, 6], [9, 11], [14, 19]]\n",
    "Output: [[1, 6], [9, 11], [14, 19]]\n",
    "```\n",
    "\n",
    "Example 2:\n",
    "\n",
    "```\n",
    "Input: intervals = [[1, 4], [3, 4], [4, 5]]\n",
    "Output: [[1,5]]\n",
    "```\n",
    "\n",
    "**Note**: Your program should work for any arbitraty input."
   ]
  },
  {
   "cell_type": "code",
   "execution_count": null,
   "id": "a8905e37",
   "metadata": {},
   "outputs": [],
   "source": [
    "<YOUR CODE>"
   ]
  },
  {
   "cell_type": "markdown",
   "id": "8a0edbe2",
   "metadata": {},
   "source": [
    "## Task 5 (1 point)\n",
    "\n",
    "\n",
    "Write a Python Program to calculate the total grade of `4` students with registration numbers; `A1`, `A2`, `A3`, and `A4` respectively using their homework and Exam scores.\n",
    "\n",
    "Specify if each student has passed or failed. \n",
    "\n",
    "Assuming their homework scores are `15, 7, 14, and 20`, respectively. Their exam scores are `68, 18, 48, and 40`, respectively.\n",
    "\n",
    "`total grade = (homework + exam) / 10`\n",
    "\n",
    "(If student grade is less than 4, it means failed while if the grade is greater than 4 it means passed)\n",
    "\n",
    "**Note 1**: Use the following grading system,\n",
    "\n",
    "- 8, 9, 10 --> Excelent\n",
    "- 6, 7 --> Good\n",
    "- 4, 5 --> Acceptable\n",
    "- lass than 4 --> Faild\n",
    "\n",
    "Example: \n",
    "\n",
    "```\n",
    "Input: students = {\n",
    "    A1: {'homework': 15, 'exam': 68},\n",
    "    A2: {'homework': 7, 'exam': 18},\n",
    "    A3: {'homework': 14, 'exam': 48},\n",
    "    A4: {'homework': 20, 'exam': 40}\n",
    "}\n",
    "\n",
    "Output: \n",
    "The student with registration number A1 <WRITE THE RESPECTIVE MESSAGE>\n",
    "The student with registration number A2 <WRITE THE RESPECTIVE MESSAGE>\n",
    "The student with registration number A3 <WRITE THE RESPECTIVE MESSAGE>\n",
    "The student with registration number A4 has passed, with final grade Good.\n",
    "```\n",
    "\n",
    "**Note 2**: Your program should work for any input dictionary of students detail."
   ]
  },
  {
   "cell_type": "code",
   "execution_count": null,
   "id": "5414b2cf",
   "metadata": {},
   "outputs": [],
   "source": [
    "<YOUR CODE>"
   ]
  }
 ],
 "metadata": {
  "kernelspec": {
   "display_name": "Python 3 (ipykernel)",
   "language": "python",
   "name": "python3"
  },
  "language_info": {
   "codemirror_mode": {
    "name": "ipython",
    "version": 3
   },
   "file_extension": ".py",
   "mimetype": "text/x-python",
   "name": "python",
   "nbconvert_exporter": "python",
   "pygments_lexer": "ipython3",
   "version": "3.10.9"
  }
 },
 "nbformat": 4,
 "nbformat_minor": 5
}
