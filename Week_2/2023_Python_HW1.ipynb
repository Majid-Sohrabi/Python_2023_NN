{
 "cells": [
  {
   "cell_type": "markdown",
   "id": "8f868eb6",
   "metadata": {},
   "source": [
    "# Homework 1\n"
   ]
  },
  {
   "cell_type": "markdown",
   "id": "f47683d8",
   "metadata": {},
   "source": [
    "## Task 1  (1 point)\n",
    "\n",
    "What is prime number?\n",
    "\n",
    "`A number that can only be divided by itself and 1 without remainders. (Note: Prime number > 1)`\n",
    "\n",
    "Write a program that receive two positive integers by the user, then print all the prime numbers between these two integers.\n",
    "\n",
    "Second step, print the average of all these prime numbers."
   ]
  },
  {
   "cell_type": "code",
   "execution_count": null,
   "id": "2d62ba3d",
   "metadata": {},
   "outputs": [],
   "source": [
    "<YOUR CODE>"
   ]
  },
  {
   "cell_type": "markdown",
   "id": "d03af2f7",
   "metadata": {},
   "source": [
    "## Task 2 (1 point)\n",
    "\n",
    "Write a program that receives a positive integer `N` from the user, the task is to find following formula:\n",
    "\n",
    "$$\n",
    "1^2 + 2^3 + 3^2 + ... + N^2 (or N^3)\n",
    "$$\n",
    "\n",
    "1. If the number is odd then rais to the power of 2.\n",
    "2. If the numner is even then rais to the power of 3.\n",
    "\n",
    "\n",
    "Example:\n",
    "\n",
    "$$\n",
    "N = 5\n",
    "$$\n",
    "\n",
    "$$\n",
    "1^2 + 2^3 + 3^2 + 4^3 + 5^2 = (2 + 8 + 9 + 64 + 25) = 108\n",
    "$$\n"
   ]
  },
  {
   "cell_type": "code",
   "execution_count": null,
   "id": "53894434",
   "metadata": {},
   "outputs": [],
   "source": [
    "<YOUR CODE>"
   ]
  },
  {
   "cell_type": "markdown",
   "id": "89040ea7",
   "metadata": {},
   "source": [
    "## Task 3  (3 points)\n",
    "\n",
    "Write a python program to rotate the elements of an array with an arbitrary direction (left or right) and arbitrary number or elements.\n",
    "\n",
    "1. The user need to insert the term ('left' or 'right') which shows the direction of the rotation.\n",
    "2. The user need to insert the number d which specifies how many elements need to be rotated.\n",
    "\n",
    "Example:\n",
    "\n",
    "```\n",
    "List (array) = [1, 2, 3, 4, 5, 6, 7]\n",
    "\n",
    "if left shift by 2 elements:\n",
    "\n",
    "Ooutput = [3, 4, 5, 6, 7, 1, 2] \n",
    "```"
   ]
  },
  {
   "cell_type": "code",
   "execution_count": null,
   "id": "782170f2",
   "metadata": {},
   "outputs": [],
   "source": [
    "<YOUR CODE>"
   ]
  },
  {
   "cell_type": "markdown",
   "id": "9f0f0213",
   "metadata": {},
   "source": [
    "## Task 4  (4 points)\n",
    "\n",
    "**Great Job! You already solved task 3.**\n",
    "\n",
    "Let's develop the idea, now consider a 2D array, and you want to implement a program that not only shift to right or left, but also, it can shift up or down.\n",
    "\n",
    "In this scenario, the user need to insert four different arguments:\n",
    "\n",
    "1. Row shift or column shift? ('row' or 'column')\n",
    "\n",
    "2. Which direction? ('left' or 'right') \n",
    "\n",
    "3. Index of the column or row? (an integer index)\n",
    "\n",
    "4. How many elements need to be shifted? (integer number)"
   ]
  },
  {
   "cell_type": "code",
   "execution_count": null,
   "id": "c79ed191",
   "metadata": {},
   "outputs": [],
   "source": [
    "<YOUR CODE>"
   ]
  },
  {
   "cell_type": "markdown",
   "id": "8a0edbe2",
   "metadata": {},
   "source": [
    "## Task 5  (1 point)\n",
    "\n",
    "Write a program that splits a list by an index inserted by the user, then cut the list from that index and attach the right part to the beginning of the list.\n",
    "\n",
    "Example:\n",
    "\n",
    "\n",
    "list: [1, 2, 3, 4, **5, 6, 7**]\n",
    "\n",
    "new list: [**5, 6, 7**, 1, 2, 3, 4]"
   ]
  },
  {
   "cell_type": "code",
   "execution_count": null,
   "id": "5414b2cf",
   "metadata": {},
   "outputs": [],
   "source": [
    "<YOUR CODE>"
   ]
  }
 ],
 "metadata": {
  "kernelspec": {
   "display_name": "Python 3 (ipykernel)",
   "language": "python",
   "name": "python3"
  },
  "language_info": {
   "codemirror_mode": {
    "name": "ipython",
    "version": 3
   },
   "file_extension": ".py",
   "mimetype": "text/x-python",
   "name": "python",
   "nbconvert_exporter": "python",
   "pygments_lexer": "ipython3",
   "version": "3.10.9"
  }
 },
 "nbformat": 4,
 "nbformat_minor": 5
}
